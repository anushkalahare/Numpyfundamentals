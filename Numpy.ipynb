{
  "nbformat": 4,
  "nbformat_minor": 0,
  "metadata": {
    "colab": {
      "provenance": [],
      "authorship_tag": "ABX9TyOdDoAVVSfWdNUvRrFZufd0",
      "include_colab_link": true
    },
    "kernelspec": {
      "name": "python3",
      "display_name": "Python 3"
    },
    "language_info": {
      "name": "python"
    }
  },
  "cells": [
    {
      "cell_type": "markdown",
      "metadata": {
        "id": "view-in-github",
        "colab_type": "text"
      },
      "source": [
        "<a href=\"https://colab.research.google.com/github/anushkalahare/Numpyfundamentals/blob/main/Numpy.ipynb\" target=\"_parent\"><img src=\"https://colab.research.google.com/assets/colab-badge.svg\" alt=\"Open In Colab\"/></a>"
      ]
    },
    {
      "cell_type": "code",
      "execution_count": null,
      "metadata": {
        "id": "NBT8S4jMzH_9"
      },
      "outputs": [],
      "source": [
        "import numpy as np"
      ]
    },
    {
      "cell_type": "markdown",
      "source": [
        "# Array Basics"
      ],
      "metadata": {
        "id": "Bdvg7KlF7W-1"
      }
    },
    {
      "cell_type": "code",
      "source": [
        "a = np.array([1,2,3])\n",
        "print(a)\n",
        "print(a.shape)\n",
        "print(a.dtype)\n",
        "print(a.ndim)\n",
        "print(a.size)\n",
        "print(a.itemsize)"
      ],
      "metadata": {
        "colab": {
          "base_uri": "https://localhost:8080/"
        },
        "id": "K61GDmEaz6xq",
        "outputId": "3d657ce9-567d-49be-ef45-1d309650c5b4"
      },
      "execution_count": null,
      "outputs": [
        {
          "output_type": "stream",
          "name": "stdout",
          "text": [
            "[1 2 3]\n",
            "(3,)\n",
            "int64\n",
            "1\n",
            "3\n",
            "8\n"
          ]
        }
      ]
    },
    {
      "cell_type": "code",
      "source": [
        "print(a[0])\n",
        "a[0] = 10\n",
        "print(a)"
      ],
      "metadata": {
        "colab": {
          "base_uri": "https://localhost:8080/"
        },
        "id": "k2jUaXJA0ig2",
        "outputId": "a255ef03-7607-4d27-f932-1774fc98ad28"
      },
      "execution_count": null,
      "outputs": [
        {
          "output_type": "stream",
          "name": "stdout",
          "text": [
            "1\n",
            "[10  2  3]\n"
          ]
        }
      ]
    },
    {
      "cell_type": "code",
      "source": [
        "b = a * np.array([2,0,2])\n",
        "print(b)"
      ],
      "metadata": {
        "colab": {
          "base_uri": "https://localhost:8080/"
        },
        "id": "IhK0Eple7Jrc",
        "outputId": "863dbbf6-6bf1-440e-82c0-f5f5eb11b148"
      },
      "execution_count": null,
      "outputs": [
        {
          "output_type": "stream",
          "name": "stdout",
          "text": [
            "[20  0  6]\n"
          ]
        }
      ]
    },
    {
      "cell_type": "markdown",
      "source": [
        "# Numpy Array vs Python List"
      ],
      "metadata": {
        "id": "evouxcZX7dCD"
      }
    },
    {
      "cell_type": "code",
      "source": [
        "l = [1,2,3]\n",
        "a = np.array([1,2,3])\n",
        "print(l)\n",
        "print(a)"
      ],
      "metadata": {
        "colab": {
          "base_uri": "https://localhost:8080/"
        },
        "id": "s4-5qnEu7meC",
        "outputId": "31c3f7e4-7396-4645-cd42-30ebdaf8f47b"
      },
      "execution_count": null,
      "outputs": [
        {
          "output_type": "stream",
          "name": "stdout",
          "text": [
            "[1, 2, 3]\n",
            "[1 2 3]\n"
          ]
        }
      ]
    },
    {
      "cell_type": "code",
      "source": [
        "l.append(4)\n",
        "l = l + [4]\n",
        "l = l * 2\n",
        "print(l)\n",
        "\n",
        "a = a + np.array([4])\n",
        "a = a * 2\n",
        "print(a)"
      ],
      "metadata": {
        "colab": {
          "base_uri": "https://localhost:8080/"
        },
        "id": "e8trRFIeIBhA",
        "outputId": "5f11f20b-cbc6-4d6b-ffdb-3f97210ed519"
      },
      "execution_count": null,
      "outputs": [
        {
          "output_type": "stream",
          "name": "stdout",
          "text": [
            "[1, 2, 3, 4, 4, 1, 2, 3, 4, 4]\n",
            "[10 12 14]\n"
          ]
        }
      ]
    },
    {
      "cell_type": "code",
      "source": [
        "a = np.sqrt(a)\n",
        "a = np.log(a)\n",
        "print(a)"
      ],
      "metadata": {
        "colab": {
          "base_uri": "https://localhost:8080/"
        },
        "id": "goUvf1vSIIkP",
        "outputId": "438fa895-4760-4757-d88d-a67994d6dc39"
      },
      "execution_count": null,
      "outputs": [
        {
          "output_type": "stream",
          "name": "stdout",
          "text": [
            "[1.15129255 1.24245332 1.31952866]\n"
          ]
        }
      ]
    },
    {
      "cell_type": "markdown",
      "source": [
        "# Dot Product"
      ],
      "metadata": {
        "id": "pp5hSvc1IZC_"
      }
    },
    {
      "cell_type": "code",
      "source": [
        "l1 = [1,2,3]\n",
        "l2 = [4,5,6]\n",
        "a1 = np.array(l1)\n",
        "a2 = np.array(l2)\n",
        "\n",
        "# numpy method 1\n",
        "dot = np.dot(a1,a2)\n",
        "print(dot)\n",
        "\n",
        "# manual method 2\n",
        "dot = 0\n",
        "for i in range(len(l1)):\n",
        "  dot += l1[i] * l2[i]\n",
        "print(dot)\n",
        "\n",
        "# manual method 3\n",
        "sum1 = a1 * a2\n",
        "dot = np.sum(sum1)\n",
        "print(dot)\n",
        "\n",
        "# method 4\n",
        "dot = a1 @ a2\n",
        "print(dot)"
      ],
      "metadata": {
        "colab": {
          "base_uri": "https://localhost:8080/"
        },
        "id": "xJP1eVAtIcVp",
        "outputId": "1e11371d-3e4f-4b5f-ca61-2833509a861c"
      },
      "execution_count": null,
      "outputs": [
        {
          "output_type": "stream",
          "name": "stdout",
          "text": [
            "32\n",
            "32\n",
            "32\n",
            "32\n"
          ]
        }
      ]
    },
    {
      "cell_type": "markdown",
      "source": [
        "# Speed test array vs list"
      ],
      "metadata": {
        "id": "ZWFi_uhlLZQk"
      }
    },
    {
      "cell_type": "code",
      "source": [
        "import numpy as np"
      ],
      "metadata": {
        "id": "LozY88vCLetc"
      },
      "execution_count": 1,
      "outputs": []
    },
    {
      "cell_type": "code",
      "source": [
        "from timeit import default_timer as timer\n",
        "a = np.random.randn(1000)\n",
        "b = np.random.randn(1000)\n",
        "\n",
        "A = list(a)\n",
        "B = list(b)\n",
        "\n",
        "T = 1000\n",
        "\n",
        "def dot1():\n",
        "  dot = 0\n",
        "  for i in range(len(A)):\n",
        "    dot += A[i] * B[i]\n",
        "  return dot\n",
        "\n",
        "def dot2():\n",
        "  return np.dot(a,b)\n",
        "\n",
        "start = timer()\n",
        "for t in range (T):\n",
        "  dot1()\n",
        "end = timer()\n",
        "t1 = end-start\n",
        "\n",
        "start = timer()\n",
        "for t in range (T):\n",
        "  dot2()\n",
        "end = timer()\n",
        "t2 = end-start\n",
        "\n",
        "print('list calculations', t1)\n",
        "print('numpy calculations', t2)\n",
        "print(t1/t2)\n"
      ],
      "metadata": {
        "colab": {
          "base_uri": "https://localhost:8080/"
        },
        "id": "rv6H0vKti55G",
        "outputId": "9ca05e01-614a-4933-e1a4-452563be24ed"
      },
      "execution_count": 3,
      "outputs": [
        {
          "output_type": "stream",
          "name": "stdout",
          "text": [
            "list calculations 0.2278966600001695\n",
            "numpy calculations 0.001602127999831282\n",
            "142.246225035808\n"
          ]
        }
      ]
    },
    {
      "cell_type": "markdown",
      "source": [
        "# Multidimensionsl Arrays"
      ],
      "metadata": {
        "id": "Ab5dgTDI1K_1"
      }
    },
    {
      "cell_type": "code",
      "source": [
        "a = np.array([[1,2], [3,4]])\n",
        "print(a)\n",
        "print(a.shape)\n",
        "print(a[0,0])\n",
        "print(a[:,0])\n",
        "print(a.T)\n",
        "print(np.linalg.inv(a))\n",
        "print(np.linalg.det(a))\n",
        "print(np.diag(a))\n",
        "\n",
        "c = np.diag(a)\n",
        "print(np.diag(c))"
      ],
      "metadata": {
        "colab": {
          "base_uri": "https://localhost:8080/"
        },
        "id": "97I5iulN1OEn",
        "outputId": "e930326c-47b4-4f97-c38b-08ed76f4ea2f"
      },
      "execution_count": 15,
      "outputs": [
        {
          "output_type": "stream",
          "name": "stdout",
          "text": [
            "[[1 2]\n",
            " [3 4]]\n",
            "(2, 2)\n",
            "1\n",
            "[1 3]\n",
            "[[1 3]\n",
            " [2 4]]\n",
            "[[-2.   1. ]\n",
            " [ 1.5 -0.5]]\n",
            "-2.0000000000000004\n",
            "[1 4]\n",
            "[[1 0]\n",
            " [0 4]]\n"
          ]
        }
      ]
    },
    {
      "cell_type": "markdown",
      "source": [
        "# Array Indexing/Slicing/Boolean Indexing"
      ],
      "metadata": {
        "id": "vLhDQnqh33L1"
      }
    },
    {
      "cell_type": "code",
      "source": [
        "b = a[0,1]\n",
        "print(b)"
      ],
      "metadata": {
        "colab": {
          "base_uri": "https://localhost:8080/"
        },
        "id": "wlICyGlt4A7M",
        "outputId": "c7f5a954-4006-4cb2-9a66-5be0de0eafbe"
      },
      "execution_count": 16,
      "outputs": [
        {
          "output_type": "stream",
          "name": "stdout",
          "text": [
            "2\n"
          ]
        }
      ]
    },
    {
      "cell_type": "code",
      "source": [
        "a = np.array([[1,2,3], [4,5,6], [7,8,9]])\n",
        "print(a)\n",
        "\n",
        "b = a[-1,-2]\n",
        "print(b)"
      ],
      "metadata": {
        "colab": {
          "base_uri": "https://localhost:8080/"
        },
        "id": "Ced1oUs78cXV",
        "outputId": "4a8b8998-c829-4fe2-8caf-969e93f5b0b3"
      },
      "execution_count": 20,
      "outputs": [
        {
          "output_type": "stream",
          "name": "stdout",
          "text": [
            "[[1 2 3]\n",
            " [4 5 6]\n",
            " [7 8 9]]\n",
            "8\n"
          ]
        }
      ]
    },
    {
      "cell_type": "code",
      "source": [
        "a = np.array([[1,2], [3,4], [5,6]])\n",
        "print(a)\n",
        "\n",
        "bool_idx = a > 2\n",
        "print(bool_idx)\n",
        "print(a[bool_idx])\n",
        "\n",
        "print(a[a > 2])\n",
        "\n",
        "b = np.where(a>2, a, -1)\n",
        "print(b)"
      ],
      "metadata": {
        "colab": {
          "base_uri": "https://localhost:8080/"
        },
        "id": "oRcPWORy9bYB",
        "outputId": "50033380-8f1a-4f63-913e-1a4126d5cbfa"
      },
      "execution_count": 26,
      "outputs": [
        {
          "output_type": "stream",
          "name": "stdout",
          "text": [
            "[[1 2]\n",
            " [3 4]\n",
            " [5 6]]\n",
            "[[False False]\n",
            " [ True  True]\n",
            " [ True  True]]\n",
            "[3 4 5 6]\n",
            "[3 4 5 6]\n",
            "[[-1 -1]\n",
            " [ 3  4]\n",
            " [ 5  6]]\n"
          ]
        }
      ]
    },
    {
      "cell_type": "code",
      "source": [
        "#fancy indexing\n",
        "\n",
        "a = np.array([10,19,30,41,50,61])\n",
        "print(a)\n",
        "b = [1,3,5]\n",
        "print(a[b])"
      ],
      "metadata": {
        "colab": {
          "base_uri": "https://localhost:8080/"
        },
        "id": "Fc76wgav-irX",
        "outputId": "1ce6d443-83f1-4b2b-9983-4cd4309e0559"
      },
      "execution_count": 27,
      "outputs": [
        {
          "output_type": "stream",
          "name": "stdout",
          "text": [
            "[10 19 30 41 50 61]\n",
            "[19 41 61]\n"
          ]
        }
      ]
    },
    {
      "cell_type": "code",
      "source": [
        "a = np.array([10,19,30,41,50,61])\n",
        "print(a)\n",
        "even = np.argwhere(a%2==0).flatten()\n",
        "print(a[even])"
      ],
      "metadata": {
        "colab": {
          "base_uri": "https://localhost:8080/"
        },
        "id": "JB3ayuRm-4cw",
        "outputId": "9c8be620-25d2-4d68-ba6d-50d8eea20fb8"
      },
      "execution_count": 30,
      "outputs": [
        {
          "output_type": "stream",
          "name": "stdout",
          "text": [
            "[10 19 30 41 50 61]\n",
            "[10 30 50]\n"
          ]
        }
      ]
    },
    {
      "cell_type": "markdown",
      "source": [
        "# Reshaping"
      ],
      "metadata": {
        "id": "NTmHCfrQ_UOW"
      }
    },
    {
      "cell_type": "code",
      "source": [
        "a = np.arange(1,7)\n",
        "print(a)\n",
        "print(a.shape)\n",
        "b = a.reshape(2,3)\n",
        "print(b)\n",
        "print(b.shape)"
      ],
      "metadata": {
        "colab": {
          "base_uri": "https://localhost:8080/"
        },
        "id": "csARQwrZ_VsR",
        "outputId": "d5fab5c0-0bb8-4d90-a897-212a04f6e4bc"
      },
      "execution_count": 32,
      "outputs": [
        {
          "output_type": "stream",
          "name": "stdout",
          "text": [
            "[1 2 3 4 5 6]\n",
            "(6,)\n",
            "[[1 2 3]\n",
            " [4 5 6]]\n",
            "(2, 3)\n"
          ]
        }
      ]
    },
    {
      "cell_type": "code",
      "source": [
        "b = a[np.newaxis, :]\n",
        "print(b)\n",
        "print(b.shape)"
      ],
      "metadata": {
        "colab": {
          "base_uri": "https://localhost:8080/"
        },
        "id": "6fgGJ6WP_xZL",
        "outputId": "13e32fed-db3e-4581-d0a4-341912bb247a"
      },
      "execution_count": 34,
      "outputs": [
        {
          "output_type": "stream",
          "name": "stdout",
          "text": [
            "[[1 2 3 4 5 6]]\n",
            "(1, 6)\n"
          ]
        }
      ]
    },
    {
      "cell_type": "markdown",
      "source": [
        "# Concatenation"
      ],
      "metadata": {
        "id": "B9YQCybZKCW4"
      }
    },
    {
      "cell_type": "code",
      "source": [
        "a = np.array([[1,2],[ 3,4]])\n",
        "b = np.array([[5,6]])\n",
        "c = np.concatenate((a,b),axis=0)\n",
        "print(c)\n",
        "c = np.concatenate((a,b),axis=None)\n",
        "print(c)\n",
        "c = np.concatenate((a,b.T),axis=1)\n",
        "print(c)"
      ],
      "metadata": {
        "colab": {
          "base_uri": "https://localhost:8080/"
        },
        "id": "qv6qDa_-KE-d",
        "outputId": "5425b7d3-82ee-479d-b1f8-df674a5218e5"
      },
      "execution_count": 38,
      "outputs": [
        {
          "output_type": "stream",
          "name": "stdout",
          "text": [
            "[[1 2]\n",
            " [3 4]\n",
            " [5 6]]\n",
            "[1 2 3 4 5 6]\n",
            "[[1 2 5]\n",
            " [3 4 6]]\n"
          ]
        }
      ]
    },
    {
      "cell_type": "code",
      "source": [
        "a = np.array([1,2,3,4])\n",
        "b = np.array([5,6,7,8])\n",
        "#hstack, vstack\n",
        "c = np.hstack((a,b))\n",
        "print(c)\n",
        "d = np.vstack((a,b))\n",
        "print(d)"
      ],
      "metadata": {
        "colab": {
          "base_uri": "https://localhost:8080/"
        },
        "id": "7GzCH3qcLsZa",
        "outputId": "f04ebe67-10af-4572-9cce-cad6318d77b9"
      },
      "execution_count": 43,
      "outputs": [
        {
          "output_type": "stream",
          "name": "stdout",
          "text": [
            "[1 2 3 4 5 6 7 8]\n",
            "[[1 2 3 4]\n",
            " [5 6 7 8]]\n"
          ]
        }
      ]
    },
    {
      "cell_type": "markdown",
      "source": [
        "# Broadcasting"
      ],
      "metadata": {
        "id": "zhwUATCFMhYO"
      }
    },
    {
      "cell_type": "code",
      "source": [
        "x = np.array([[1,2,3], [4,5,6], [1,2,3], [4,5,6]])\n",
        "a = np.array([1, 0, 1])\n",
        "y = x + a\n",
        "print(y)"
      ],
      "metadata": {
        "colab": {
          "base_uri": "https://localhost:8080/"
        },
        "id": "8OZ-cuuVMluA",
        "outputId": "9a7b4f7c-2fc1-44eb-d957-ff56aa16d281"
      },
      "execution_count": 45,
      "outputs": [
        {
          "output_type": "stream",
          "name": "stdout",
          "text": [
            "[[2 2 4]\n",
            " [5 5 7]\n",
            " [2 2 4]\n",
            " [5 5 7]]\n"
          ]
        }
      ]
    },
    {
      "cell_type": "markdown",
      "source": [
        "# Functions and Axes"
      ],
      "metadata": {
        "id": "E2TAOzSTNmUs"
      }
    },
    {
      "cell_type": "code",
      "source": [
        "a = np.array([[7,8,9,10,11,12,13], [17,18,19,20,21,22,23]])\n",
        "print(a)\n",
        "print(a.sum())\n",
        "print(a.sum(axis=0))\n",
        "print(a.sum(axis=1))\n",
        "print(a.mean())\n",
        "print(a.mean(axis=0))\n",
        "print(a.mean(axis=1))\n",
        "print(a.std())\n",
        "print(a.std(axis=0))\n",
        "print(a.std(axis=1))\n",
        "print(a.min())\n",
        "print(a.max())\n",
        "print(a.var())\n",
        "print(a.var(axis=0))"
      ],
      "metadata": {
        "colab": {
          "base_uri": "https://localhost:8080/"
        },
        "id": "7Wy7PovbNsWg",
        "outputId": "b62c3790-4ebe-4521-c53c-d27a1ccc4ea3"
      },
      "execution_count": 50,
      "outputs": [
        {
          "output_type": "stream",
          "name": "stdout",
          "text": [
            "[[ 7  8  9 10 11 12 13]\n",
            " [17 18 19 20 21 22 23]]\n",
            "210\n",
            "[24 26 28 30 32 34 36]\n",
            "[ 70 140]\n",
            "15.0\n",
            "[12. 13. 14. 15. 16. 17. 18.]\n",
            "[10. 20.]\n",
            "5.385164807134504\n",
            "[5. 5. 5. 5. 5. 5. 5.]\n",
            "[2. 2.]\n",
            "7\n",
            "23\n",
            "29.0\n",
            "[25. 25. 25. 25. 25. 25. 25.]\n"
          ]
        }
      ]
    },
    {
      "cell_type": "markdown",
      "source": [
        "# Datatypes"
      ],
      "metadata": {
        "id": "6KuK4-LeO5_n"
      }
    },
    {
      "cell_type": "code",
      "source": [
        "x = np.array([1,2])\n",
        "print(x.dtype)\n",
        "\n",
        "x = np.array([1.0,2.0])\n",
        "print(x.dtype)\n",
        "\n",
        "x = np.array([1.0,2.0], dtype=np.int32)\n",
        "print(x.dtype)\n",
        "\n",
        "x = np.array([1,2], dtype=np.float16)\n",
        "print(x.dtype)"
      ],
      "metadata": {
        "colab": {
          "base_uri": "https://localhost:8080/"
        },
        "id": "pp1-4KZ0O8oN",
        "outputId": "19ae8276-8a5a-4cf2-a211-5ea6c8d6de18"
      },
      "execution_count": 55,
      "outputs": [
        {
          "output_type": "stream",
          "name": "stdout",
          "text": [
            "int64\n",
            "float64\n",
            "int32\n",
            "float16\n"
          ]
        }
      ]
    },
    {
      "cell_type": "markdown",
      "source": [
        "# Copying"
      ],
      "metadata": {
        "id": "34UkAeHdRJw_"
      }
    },
    {
      "cell_type": "code",
      "source": [
        "a = np.array([1,2,3])\n",
        "b = a.copy()\n",
        "b[0] = 10\n",
        "print(a)\n",
        "print(b)"
      ],
      "metadata": {
        "colab": {
          "base_uri": "https://localhost:8080/"
        },
        "id": "qJgf1knSRMHZ",
        "outputId": "84635015-ea5e-4459-c8e6-01006cb1eab3"
      },
      "execution_count": 56,
      "outputs": [
        {
          "output_type": "stream",
          "name": "stdout",
          "text": [
            "[1 2 3]\n",
            "[10  2  3]\n"
          ]
        }
      ]
    },
    {
      "cell_type": "markdown",
      "source": [
        "# Generating Arrays"
      ],
      "metadata": {
        "id": "_RVidpIYRjJL"
      }
    },
    {
      "cell_type": "code",
      "source": [
        "a =  np.zeros((2,3))\n",
        "print(a)\n",
        "\n",
        "a =  np.ones((2,3))\n",
        "print(a)\n",
        "\n",
        "a = np.full((2,3), 5.0)\n",
        "print(a)\n",
        "\n",
        "a = np.eye(3)\n",
        "print(a)\n",
        "\n",
        "a = np.arange(20)\n",
        "print(a)\n",
        "\n",
        "a = np.linspace(0,10,5)\n",
        "print(a)"
      ],
      "metadata": {
        "colab": {
          "base_uri": "https://localhost:8080/"
        },
        "id": "HKO2P66dRlzh",
        "outputId": "03918e10-5090-4dd8-df11-201edce779ce"
      },
      "execution_count": 63,
      "outputs": [
        {
          "output_type": "stream",
          "name": "stdout",
          "text": [
            "[[0. 0. 0.]\n",
            " [0. 0. 0.]]\n",
            "[[1. 1. 1.]\n",
            " [1. 1. 1.]]\n",
            "[[5. 5. 5.]\n",
            " [5. 5. 5.]]\n",
            "[[1. 0. 0.]\n",
            " [0. 1. 0.]\n",
            " [0. 0. 1.]]\n",
            "[ 0  1  2  3  4  5  6  7  8  9 10 11 12 13 14 15 16 17 18 19]\n",
            "[ 0.   2.5  5.   7.5 10. ]\n"
          ]
        }
      ]
    },
    {
      "cell_type": "markdown",
      "source": [
        "# Random Numbers"
      ],
      "metadata": {
        "id": "NaWMFzckSuVk"
      }
    },
    {
      "cell_type": "code",
      "source": [
        "a = np.random.random((3,2))\n",
        "print(a)\n",
        "\n",
        "a = np.random.randn(3,2) # normal/Gaussian distribution\n",
        "print(a)\n",
        "print(a.mean(), a.var())\n",
        "\n",
        "a = np.random.randint(0,10,(3,2))\n",
        "print(a)\n",
        "\n",
        "a = np.random.choice(10, size=10)\n",
        "print(a)\n",
        "\n",
        "a = np.random.choice([-1,-6,-9], size=10)\n",
        "print(a)"
      ],
      "metadata": {
        "colab": {
          "base_uri": "https://localhost:8080/"
        },
        "id": "uI0hpurDSwQf",
        "outputId": "699af40e-f50f-498b-8525-eb39a6baccb7"
      },
      "execution_count": 73,
      "outputs": [
        {
          "output_type": "stream",
          "name": "stdout",
          "text": [
            "[[0.52073404 0.37844345]\n",
            " [0.05930896 0.99481845]\n",
            " [0.7190972  0.56180409]]\n",
            "[[ 0.74781166 -1.16698515]\n",
            " [-0.49553253 -0.3253825 ]\n",
            " [-0.78441354 -0.28807666]]\n",
            "-0.38542978759839525 0.34657648899522536\n",
            "[[2 0]\n",
            " [8 0]\n",
            " [1 0]]\n",
            "[3 9 9 6 4 0 5 9 6 4]\n",
            "[-9 -1 -6 -6 -9 -9 -9 -1 -9 -6]\n"
          ]
        }
      ]
    },
    {
      "cell_type": "markdown",
      "source": [
        "# Linear Algebra"
      ],
      "metadata": {
        "id": "GLQHYFvtXNpD"
      }
    },
    {
      "cell_type": "markdown",
      "source": [
        "1) Eigen values"
      ],
      "metadata": {
        "id": "Gvnp66O1aBnY"
      }
    },
    {
      "cell_type": "code",
      "source": [
        "a = np.array([[1,2], [3,4]])\n",
        "eigenvalues, eigenvectors = np.linalg.eig(a)\n",
        "print(eigenvalues)\n",
        "print(eigenvectors)\n",
        "\n",
        "# e_vec * e_val = A * e_vec\n",
        "\n",
        "b = eigenvectors[:,0] * eigenvalues[0]\n",
        "print(b)\n",
        "c = a @ eigenvectors[:,0]\n",
        "print(c)\n",
        "\n",
        "print(np.allclose(b,c)) #to compare arrays"
      ],
      "metadata": {
        "colab": {
          "base_uri": "https://localhost:8080/"
        },
        "id": "MRB8UJVEXR0Z",
        "outputId": "38f89638-3002-4994-bf03-6d15979faf9a"
      },
      "execution_count": 79,
      "outputs": [
        {
          "output_type": "stream",
          "name": "stdout",
          "text": [
            "[-0.37228132  5.37228132]\n",
            "[[-0.82456484 -0.41597356]\n",
            " [ 0.56576746 -0.90937671]]\n",
            "[ 0.30697009 -0.21062466]\n",
            "[ 0.30697009 -0.21062466]\n",
            "True\n"
          ]
        }
      ]
    },
    {
      "cell_type": "markdown",
      "source": [
        "2) Solving linear systems"
      ],
      "metadata": {
        "id": "5ULhocX1aFVg"
      }
    },
    {
      "cell_type": "code",
      "source": [
        "a = np.array([[1,1], [1.5,4]])\n",
        "b = np.array([2200,5050])\n",
        "x = np.linalg.inv(a) @ b\n",
        "print(x)\n",
        "\n",
        "x = np.linalg.solve(a,b)\n",
        "print(x)"
      ],
      "metadata": {
        "colab": {
          "base_uri": "https://localhost:8080/"
        },
        "id": "pTw2OYlfaJhO",
        "outputId": "0effeaab-efa5-42c5-907a-51b2c9796303"
      },
      "execution_count": 90,
      "outputs": [
        {
          "output_type": "stream",
          "name": "stdout",
          "text": [
            "[1500.  700.]\n",
            "[1500.  700.]\n"
          ]
        }
      ]
    },
    {
      "cell_type": "markdown",
      "source": [
        "# Loading data from CSV file"
      ],
      "metadata": {
        "id": "hbufF3MecmxF"
      }
    },
    {
      "cell_type": "code",
      "source": [
        "data = np.genfromtxt('data.csv', delimiter=',', skip_header=1)\n",
        "print(data)\n",
        "data = np.loadtxt('data.csv', delimiter=',', skiprows=1)\n",
        "print(data)"
      ],
      "metadata": {
        "id": "NOA6clmUftah"
      },
      "execution_count": null,
      "outputs": []
    }
  ]
}